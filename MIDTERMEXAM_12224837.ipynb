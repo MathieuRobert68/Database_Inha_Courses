{
  "nbformat": 4,
  "nbformat_minor": 0,
  "metadata": {
    "colab": {
      "provenance": [],
      "authorship_tag": "ABX9TyNdGYVm6QLrC+eVyflEx8Op",
      "include_colab_link": true
    },
    "kernelspec": {
      "name": "python3",
      "display_name": "Python 3"
    },
    "language_info": {
      "name": "python"
    }
  },
  "cells": [
    {
      "cell_type": "markdown",
      "metadata": {
        "id": "view-in-github",
        "colab_type": "text"
      },
      "source": [
        "<a href=\"https://colab.research.google.com/github/MathieuRobert68/Database_Inha_Courses/blob/main/MIDTERMEXAM_12224837.ipynb\" target=\"_parent\"><img src=\"https://colab.research.google.com/assets/colab-badge.svg\" alt=\"Open In Colab\"/></a>"
      ]
    },
    {
      "cell_type": "code",
      "execution_count": 1,
      "metadata": {
        "id": "YZd71USvN5xc"
      },
      "outputs": [],
      "source": [
        "from sqlalchemy import create_engine\n",
        "my_conn = create_engine(\"sqlite:////content/Mid_Term_Exam.db\")"
      ]
    },
    {
      "cell_type": "code",
      "source": [
        "conn = my_conn.connect()"
      ],
      "metadata": {
        "id": "_2ndvyNcOMhZ"
      },
      "execution_count": 2,
      "outputs": []
    },
    {
      "cell_type": "code",
      "source": [
        "conn.execute('''\n",
        "CREATE TABLE `Vehicle`(\n",
        "  `ID` VARCHAR NOT NULL,\n",
        "  `Registration_ID` VARCHAR NOT NULL,\n",
        "  `Manufacter` VARCHAR NOT NULL,\n",
        "  `Model` VARCHAR NOT NULL,\n",
        "  `Color` VARCHAR NOT NULL,\n",
        "  `Curent_odometer` INT,\n",
        "  `Passager_capacity` INT NOT NULL,\n",
        "  `Is_available` BOOLEAN NOT NULL,\n",
        "  `Maintenance_id` INT,\n",
        "  PRIMARY KEY(`ID`)\n",
        ");''')"
      ],
      "metadata": {
        "colab": {
          "base_uri": "https://localhost:8080/"
        },
        "id": "7T8CjZGIOQ0Y",
        "outputId": "e2616bed-f789-4b1d-8faf-ce1db2c4ca0d"
      },
      "execution_count": 3,
      "outputs": [
        {
          "output_type": "execute_result",
          "data": {
            "text/plain": [
              "<sqlalchemy.engine.cursor.LegacyCursorResult at 0x7fe00e9e3750>"
            ]
          },
          "metadata": {},
          "execution_count": 3
        }
      ]
    },
    {
      "cell_type": "code",
      "source": [
        "conn.execute('''\n",
        "CREATE TABLE `Repaired`(\n",
        "  `ID` INT NOT NULL,\n",
        "  `Action_type` CHAR NOT NULL,\n",
        "  `Odometer` BIGINT NOT NULL,\n",
        "  `Final_cost` INT NOT NULL,\n",
        "  `Action_description` VARCHAR NOT NULL,\n",
        "  `Date` DATETIME NOT NULL,\n",
        "  PRIMARY KEY(`ID`)\n",
        ");''')"
      ],
      "metadata": {
        "colab": {
          "base_uri": "https://localhost:8080/"
        },
        "id": "c7i2oIxxOix6",
        "outputId": "36d1354a-29f7-4ddd-cdbf-da2ab1143244"
      },
      "execution_count": 4,
      "outputs": [
        {
          "output_type": "execute_result",
          "data": {
            "text/plain": [
              "<sqlalchemy.engine.cursor.LegacyCursorResult at 0x7fe008926ed0>"
            ]
          },
          "metadata": {},
          "execution_count": 4
        }
      ]
    },
    {
      "cell_type": "code",
      "source": [
        "conn.execute('''\n",
        "CREATE TABLE `Contries`(\n",
        "  `ID` INT NOT NULL,\n",
        "  `Country_name` VARCHAR NOT NULL,\n",
        "  `Language` JSON NOT NULL,\n",
        "  `Entity_ID` INT NOT NULL,\n",
        "  PRIMARY KEY(`ID`)\n",
        ");''')"
      ],
      "metadata": {
        "colab": {
          "base_uri": "https://localhost:8080/"
        },
        "id": "XYKKbt2FOw3u",
        "outputId": "b57edcf9-388d-4929-bec6-06e0eba575a4"
      },
      "execution_count": 5,
      "outputs": [
        {
          "output_type": "execute_result",
          "data": {
            "text/plain": [
              "<sqlalchemy.engine.cursor.LegacyCursorResult at 0x7fe00d880f50>"
            ]
          },
          "metadata": {},
          "execution_count": 5
        }
      ]
    },
    {
      "cell_type": "code",
      "source": [
        "conn.execute('''\n",
        "CREATE TABLE `FATL`(\n",
        "  `ID` INT NOT NULL,\n",
        "  `Level` INT NOT NULL,\n",
        "  `Qualification_date` DATE NOT NULL,\n",
        "  `Driver_ID` VARCHAR NOT NULL,\n",
        "  PRIMARY KEY(`ID`)\n",
        ");''')"
      ],
      "metadata": {
        "colab": {
          "base_uri": "https://localhost:8080/"
        },
        "id": "P2rbmRYRO23K",
        "outputId": "c3e856a0-1503-45cf-8542-af39faecd6eb"
      },
      "execution_count": 6,
      "outputs": [
        {
          "output_type": "execute_result",
          "data": {
            "text/plain": [
              "<sqlalchemy.engine.cursor.LegacyCursorResult at 0x7fe008930ed0>"
            ]
          },
          "metadata": {},
          "execution_count": 6
        }
      ]
    },
    {
      "cell_type": "code",
      "source": [
        "conn.execute('''\n",
        "CREATE TABLE `STLV`(\n",
        "  `ID` INT NOT NULL,\n",
        "  `Level` INT NOT NULL,\n",
        "  `Qualification_date` VARCHAR NOT NULL,\n",
        "  `Certifying` VARCHAR,\n",
        "  `Driver_ID` VARCHAR NOT NULL,\n",
        "  PRIMARY KEY(`ID`)\n",
        ");''')"
      ],
      "metadata": {
        "colab": {
          "base_uri": "https://localhost:8080/"
        },
        "id": "s1bSqIV4O-KM",
        "outputId": "4f6c734d-87f9-4110-e2dd-02ecfef5ebf9"
      },
      "execution_count": 7,
      "outputs": [
        {
          "output_type": "execute_result",
          "data": {
            "text/plain": [
              "<sqlalchemy.engine.cursor.LegacyCursorResult at 0x7fe0089265d0>"
            ]
          },
          "metadata": {},
          "execution_count": 7
        }
      ]
    },
    {
      "cell_type": "code",
      "source": [
        "conn.execute('''\n",
        "CREATE TABLE `Drivers`(\n",
        "  `ID` INT NOT NULL,\n",
        "  `Entity_ID` INT NOT NULL,\n",
        "  `First_name` VARCHAR NOT NULL,\n",
        "  `Last_name` VARCHAR NOT NULL,\n",
        "  `License_number` VARCHAR(18) NOT NULL,\n",
        "  `Clerence_level` INT NOT NULL,\n",
        "  `Language` JSON NOT NULL,\n",
        "  `FATL_ID` INT,\n",
        "  `STLV_ID` INT,\n",
        "  PRIMARY KEY(`ID`)\n",
        ");''')"
      ],
      "metadata": {
        "colab": {
          "base_uri": "https://localhost:8080/"
        },
        "id": "zEA-e75bPEy3",
        "outputId": "14b176d0-bacb-46cd-cce0-4a6c2efe8bb4"
      },
      "execution_count": 9,
      "outputs": [
        {
          "output_type": "execute_result",
          "data": {
            "text/plain": [
              "<sqlalchemy.engine.cursor.LegacyCursorResult at 0x7fe01a546490>"
            ]
          },
          "metadata": {},
          "execution_count": 9
        }
      ]
    },
    {
      "cell_type": "code",
      "source": [
        "conn.execute('''\n",
        "CREATE TABLE `Booking`(\n",
        "  `Booking_ref` INT NOT NULL,\n",
        "  `Driver_id` INT NOT NULL,\n",
        "  `Game_official_ID` INT NOT NULL,\n",
        "  `Trip_start` INT NOT NULL,\n",
        "  `Trip_end` INT,\n",
        "  `Vehicle_ID` VARCHAR NOT NULL,\n",
        "  PRIMARY KEY(`Booking_ref`)\n",
        ");''')"
      ],
      "metadata": {
        "colab": {
          "base_uri": "https://localhost:8080/"
        },
        "id": "VEhbeKuoPEp7",
        "outputId": "bbfaa0b7-a2c0-4e42-fdcd-121391d4e517"
      },
      "execution_count": 10,
      "outputs": [
        {
          "output_type": "execute_result",
          "data": {
            "text/plain": [
              "<sqlalchemy.engine.cursor.LegacyCursorResult at 0x7fe00fdbf390>"
            ]
          },
          "metadata": {},
          "execution_count": 10
        }
      ]
    },
    {
      "cell_type": "code",
      "source": [
        "conn.execute('''\n",
        "CREATE TABLE `City`(\n",
        "  `ID` INT NOT NULL,\n",
        "  `Name` VARCHAR NOT NULL,\n",
        "  `Country_id` INT NOT NULL,\n",
        "  PRIMARY KEY(`ID`)\n",
        ");''')"
      ],
      "metadata": {
        "colab": {
          "base_uri": "https://localhost:8080/"
        },
        "id": "gmVcbI6UPEgl",
        "outputId": "0de8e5e6-264f-4805-9c9e-9cb99b699067"
      },
      "execution_count": 11,
      "outputs": [
        {
          "output_type": "execute_result",
          "data": {
            "text/plain": [
              "<sqlalchemy.engine.cursor.LegacyCursorResult at 0x7fe008981d90>"
            ]
          },
          "metadata": {},
          "execution_count": 11
        }
      ]
    },
    {
      "cell_type": "code",
      "source": [
        "conn.execute('''\n",
        "CREATE TABLE `Trip_information`(\n",
        "  `ID` INT NOT NULL,\n",
        "  `Adress` VARCHAR NOT NULL,\n",
        "  `Location_type` VARCHAR,\n",
        "  `Date_time` DATETIME,\n",
        "  `Odometer` INT,\n",
        "  PRIMARY KEY(`ID`)\n",
        ");''')"
      ],
      "metadata": {
        "colab": {
          "base_uri": "https://localhost:8080/"
        },
        "id": "QQEio88VPD5L",
        "outputId": "eebdf310-4168-4776-853e-361d3a5944a8"
      },
      "execution_count": 12,
      "outputs": [
        {
          "output_type": "execute_result",
          "data": {
            "text/plain": [
              "<sqlalchemy.engine.cursor.LegacyCursorResult at 0x7fe00d880c50>"
            ]
          },
          "metadata": {},
          "execution_count": 12
        }
      ]
    },
    {
      "cell_type": "code",
      "source": [
        "conn.execute('''\n",
        "CREATE TABLE `Game_official`(\n",
        "  `ID` INT NOT NULL,\n",
        "  `City_ID` VARCHAR NOT NULL,\n",
        "  `First_name` VARCHAR NOT NULL,\n",
        "  `Last_name` VARCHAR NOT NULL,\n",
        "  `Role` VARCHAR NOT NULL,\n",
        "  `Language` JSON NOT NULL,\n",
        "  `Entity_id` INT NOT NULL,\n",
        "  PRIMARY KEY(`ID`)\n",
        ");''')"
      ],
      "metadata": {
        "colab": {
          "base_uri": "https://localhost:8080/"
        },
        "id": "PUfUEl5xPqrb",
        "outputId": "733ad9d5-2e78-4981-b2d3-54d429c302cc"
      },
      "execution_count": 15,
      "outputs": [
        {
          "output_type": "execute_result",
          "data": {
            "text/plain": [
              "<sqlalchemy.engine.cursor.LegacyCursorResult at 0x7fe0088364d0>"
            ]
          },
          "metadata": {},
          "execution_count": 15
        }
      ]
    },
    {
      "cell_type": "code",
      "source": [
        "conn.execute('''\n",
        "CREATE TABLE `Language`(\n",
        "  `ID` INT NOT NULL,\n",
        "  `Iso_code` VARCHAR NOT NULL,\n",
        "  `Name` VARCHAR NOT NULL,\n",
        "  PRIMARY KEY(`ID`)\n",
        ");''')"
      ],
      "metadata": {
        "colab": {
          "base_uri": "https://localhost:8080/"
        },
        "id": "NbUV0LONPvoj",
        "outputId": "a112ba48-a0c7-46e0-8b4a-186a2889be7e"
      },
      "execution_count": 16,
      "outputs": [
        {
          "output_type": "execute_result",
          "data": {
            "text/plain": [
              "<sqlalchemy.engine.cursor.LegacyCursorResult at 0x7fe00883ffd0>"
            ]
          },
          "metadata": {},
          "execution_count": 16
        }
      ]
    },
    {
      "cell_type": "code",
      "source": [
        "conn.execute('''\n",
        "CREATE TABLE `Multiple_languauge`\n",
        "  (`Entity_ID` INT NOT NULL, `Language_ID` INT NOT NULL);''')"
      ],
      "metadata": {
        "colab": {
          "base_uri": "https://localhost:8080/"
        },
        "id": "1-Th-0ejPvfs",
        "outputId": "58e3ce8f-24cd-4b57-ad7c-d083948f2ae4"
      },
      "execution_count": 17,
      "outputs": [
        {
          "output_type": "execute_result",
          "data": {
            "text/plain": [
              "<sqlalchemy.engine.cursor.LegacyCursorResult at 0x7fe008846890>"
            ]
          },
          "metadata": {},
          "execution_count": 17
        }
      ]
    },
    {
      "cell_type": "code",
      "source": [
        "conn.execute('''\n",
        "CREATE TABLE `Entity`(`ID` INT NOT NULL, PRIMARY KEY(`ID`));''')"
      ],
      "metadata": {
        "colab": {
          "base_uri": "https://localhost:8080/"
        },
        "id": "5J0Pn5GLPu-T",
        "outputId": "85daa531-6445-4612-b703-cda18e4dd7ae"
      },
      "execution_count": 18,
      "outputs": [
        {
          "output_type": "execute_result",
          "data": {
            "text/plain": [
              "<sqlalchemy.engine.cursor.LegacyCursorResult at 0x7fe008836090>"
            ]
          },
          "metadata": {},
          "execution_count": 18
        }
      ]
    },
    {
      "cell_type": "code",
      "source": [
        "conn.execute(\"INSERT INTO Multiple_languauge(Entity_ID,Language_ID) VALUES(13,13);\")"
      ],
      "metadata": {
        "colab": {
          "base_uri": "https://localhost:8080/"
        },
        "id": "FbowRsRAQ382",
        "outputId": "d5f8cd24-a415-4b38-9f28-43e8d8d89b42"
      },
      "execution_count": 19,
      "outputs": [
        {
          "output_type": "execute_result",
          "data": {
            "text/plain": [
              "<sqlalchemy.engine.cursor.LegacyCursorResult at 0x7fe00883f4d0>"
            ]
          },
          "metadata": {},
          "execution_count": 19
        }
      ]
    },
    {
      "cell_type": "code",
      "source": [
        "conn.execute(\"INSERT INTO Vehicle('ID','Registration_ID','Manufacter','Model','Color','Curent_odometer','Passager_Capacity','Is_available','Maintenance_id') VALUES(1,'PEUGEOT_1','PEUGEOT',208,'WHITE',13123,5,'YES',1);\")"
      ],
      "metadata": {
        "colab": {
          "base_uri": "https://localhost:8080/"
        },
        "id": "nW3RhXESQ8Ij",
        "outputId": "feae4dd9-6909-4434-ec2d-aeed3d811ece"
      },
      "execution_count": 26,
      "outputs": [
        {
          "output_type": "execute_result",
          "data": {
            "text/plain": [
              "<sqlalchemy.engine.cursor.LegacyCursorResult at 0x7fe00f3795d0>"
            ]
          },
          "metadata": {},
          "execution_count": 26
        }
      ]
    },
    {
      "cell_type": "code",
      "source": [
        "conn.execute(\"INSERT INTO Repaired('ID','Action_type','Odometer','Final_cost','Action_description','Date') VALUES(2,'SCREW','3123',3000,'REPAIRED','2022-03-03');\")"
      ],
      "metadata": {
        "colab": {
          "base_uri": "https://localhost:8080/"
        },
        "id": "hXHqWoyyVNF6",
        "outputId": "8e882f2c-5a09-4c02-b3b2-166cd244ce2d"
      },
      "execution_count": 30,
      "outputs": [
        {
          "output_type": "execute_result",
          "data": {
            "text/plain": [
              "<sqlalchemy.engine.cursor.LegacyCursorResult at 0x7fe008827690>"
            ]
          },
          "metadata": {},
          "execution_count": 30
        }
      ]
    },
    {
      "cell_type": "code",
      "source": [
        "conn.execute(\"INSERT INTO Contries('ID','Country_name','Language','Entity_ID') VALUES(1,'France','Français',68);\")"
      ],
      "metadata": {
        "colab": {
          "base_uri": "https://localhost:8080/"
        },
        "id": "F7mHqIKCWD2y",
        "outputId": "1c28d953-8d82-4832-c2c1-1d9e06c843f4"
      },
      "execution_count": 32,
      "outputs": [
        {
          "output_type": "execute_result",
          "data": {
            "text/plain": [
              "<sqlalchemy.engine.cursor.LegacyCursorResult at 0x7fe008827e10>"
            ]
          },
          "metadata": {},
          "execution_count": 32
        }
      ]
    },
    {
      "cell_type": "code",
      "source": [
        "conn.execute(\"INSERT INTO STLV('ID','Level','Qualification_date','Certifying','Driver_ID') VALUES(1,'2','56','Legendary','HIIUZEH');\")"
      ],
      "metadata": {
        "colab": {
          "base_uri": "https://localhost:8080/"
        },
        "id": "kxTY3F7NWDxR",
        "outputId": "feca00f0-9253-4630-caa9-34c216a70723"
      },
      "execution_count": 36,
      "outputs": [
        {
          "output_type": "execute_result",
          "data": {
            "text/plain": [
              "<sqlalchemy.engine.cursor.LegacyCursorResult at 0x7fe0089269d0>"
            ]
          },
          "metadata": {},
          "execution_count": 36
        }
      ]
    },
    {
      "cell_type": "code",
      "source": [
        "conn.execute(\"INSERT INTO FATL('ID','Level','Qualification_date','Driver_ID') VALUES(1,'2','2000-05-08','HIIUZEH');\")"
      ],
      "metadata": {
        "colab": {
          "base_uri": "https://localhost:8080/"
        },
        "id": "c5FQdF6QXa2Q",
        "outputId": "c04a2513-5fc2-4d9f-df5d-c207c47dcf70"
      },
      "execution_count": 39,
      "outputs": [
        {
          "output_type": "execute_result",
          "data": {
            "text/plain": [
              "<sqlalchemy.engine.cursor.LegacyCursorResult at 0x7fe0087d8090>"
            ]
          },
          "metadata": {},
          "execution_count": 39
        }
      ]
    },
    {
      "cell_type": "code",
      "source": [
        "conn.execute(\"INSERT INTO Drivers('ID','Entity_ID','First_name','Last_name','License_number','Clerence_level','Language','FATL_ID','STLV_ID') VALUES(1,'2','Mathieu','ROBERT','OJZAOEJ','4','Français','1','1');\")"
      ],
      "metadata": {
        "colab": {
          "base_uri": "https://localhost:8080/"
        },
        "id": "a9bsjLu8YIG1",
        "outputId": "f555dce1-c9e9-44cc-9962-fc7d339d5090"
      },
      "execution_count": 40,
      "outputs": [
        {
          "output_type": "execute_result",
          "data": {
            "text/plain": [
              "<sqlalchemy.engine.cursor.LegacyCursorResult at 0x7fe008827f10>"
            ]
          },
          "metadata": {},
          "execution_count": 40
        }
      ]
    },
    {
      "cell_type": "code",
      "source": [
        "conn.execute(\"INSERT INTO Booking('Booking_ref','Driver_id','Game_official_ID','Trip_start','Trip_end','Vehicle_ID') VALUES(1,'OJZAOEJ','3','4','5','3123');\")"
      ],
      "metadata": {
        "colab": {
          "base_uri": "https://localhost:8080/"
        },
        "id": "5lL_UDy_ZCJV",
        "outputId": "bc76c9b0-23a7-4f6f-f967-79a88770a94c"
      },
      "execution_count": 42,
      "outputs": [
        {
          "output_type": "execute_result",
          "data": {
            "text/plain": [
              "<sqlalchemy.engine.cursor.LegacyCursorResult at 0x7fe008981dd0>"
            ]
          },
          "metadata": {},
          "execution_count": 42
        }
      ]
    },
    {
      "cell_type": "code",
      "source": [
        "conn.execute(\"INSERT INTO City('ID','Name','Country_id') VALUES(1,'Incheon','609');\")"
      ],
      "metadata": {
        "colab": {
          "base_uri": "https://localhost:8080/"
        },
        "id": "9P9wVVUUZ4Th",
        "outputId": "3e91fecf-ea4d-4d21-dda5-e6a2cef38fc4"
      },
      "execution_count": 43,
      "outputs": [
        {
          "output_type": "execute_result",
          "data": {
            "text/plain": [
              "<sqlalchemy.engine.cursor.LegacyCursorResult at 0x7fe0088463d0>"
            ]
          },
          "metadata": {},
          "execution_count": 43
        }
      ]
    },
    {
      "cell_type": "code",
      "source": [
        "conn.execute(\"INSERT INTO Trip_information('ID','Adress','Location_type','Date_time','Odometer') VALUES(1,'4 ROAD COULAUX', 'INCHEON','2022-06-08','131313');\")"
      ],
      "metadata": {
        "colab": {
          "base_uri": "https://localhost:8080/"
        },
        "id": "UiU_NSaqaMGM",
        "outputId": "16fb3791-7746-4320-f03a-128517059c8d"
      },
      "execution_count": 45,
      "outputs": [
        {
          "output_type": "execute_result",
          "data": {
            "text/plain": [
              "<sqlalchemy.engine.cursor.LegacyCursorResult at 0x7fe008827d90>"
            ]
          },
          "metadata": {},
          "execution_count": 45
        }
      ]
    },
    {
      "cell_type": "code",
      "source": [
        "conn.execute(\"INSERT INTO Game_official('ID','City_ID','First_name','Last_name','Role','Language','Entity_id') VALUES(1,'INCHEON', 'Cassandra','Phan','Player','Korean','13123');\")"
      ],
      "metadata": {
        "colab": {
          "base_uri": "https://localhost:8080/"
        },
        "id": "_myt8XIRbFZG",
        "outputId": "dc54fb06-1ee0-4006-e6e5-a600e19b94a8"
      },
      "execution_count": 46,
      "outputs": [
        {
          "output_type": "execute_result",
          "data": {
            "text/plain": [
              "<sqlalchemy.engine.cursor.LegacyCursorResult at 0x7fe0087d78d0>"
            ]
          },
          "metadata": {},
          "execution_count": 46
        }
      ]
    },
    {
      "cell_type": "code",
      "source": [
        "conn.execute(\"INSERT INTO Language('ID','Iso_code','Name') VALUES(1,'FR','FRANCE');\")"
      ],
      "metadata": {
        "colab": {
          "base_uri": "https://localhost:8080/"
        },
        "id": "JLtZGMl_bq1v",
        "outputId": "fa9cabda-677b-48b4-fb26-f58c0ff86568"
      },
      "execution_count": 47,
      "outputs": [
        {
          "output_type": "execute_result",
          "data": {
            "text/plain": [
              "<sqlalchemy.engine.cursor.LegacyCursorResult at 0x7fe00883fd10>"
            ]
          },
          "metadata": {},
          "execution_count": 47
        }
      ]
    },
    {
      "cell_type": "code",
      "source": [
        "conn.execute(\"INSERT INTO Multiple_languauge('Entity_ID','Language_ID') VALUES(13123,'FR');\")"
      ],
      "metadata": {
        "colab": {
          "base_uri": "https://localhost:8080/"
        },
        "id": "WF3MPwmrbqyV",
        "outputId": "3a6c5245-6bc2-4d8f-80f4-87a8a89dbdf3"
      },
      "execution_count": 49,
      "outputs": [
        {
          "output_type": "execute_result",
          "data": {
            "text/plain": [
              "<sqlalchemy.engine.cursor.LegacyCursorResult at 0x7fe0087ca7d0>"
            ]
          },
          "metadata": {},
          "execution_count": 49
        }
      ]
    },
    {
      "cell_type": "code",
      "source": [
        "conn.execute(\"INSERT INTO Entity('ID') VALUES(1);\")"
      ],
      "metadata": {
        "colab": {
          "base_uri": "https://localhost:8080/"
        },
        "id": "873BYK0ycMPV",
        "outputId": "080761de-acf2-4dc8-8d3a-a01e3d9c2015"
      },
      "execution_count": 51,
      "outputs": [
        {
          "output_type": "execute_result",
          "data": {
            "text/plain": [
              "<sqlalchemy.engine.cursor.LegacyCursorResult at 0x7fe008926b10>"
            ]
          },
          "metadata": {},
          "execution_count": 51
        }
      ]
    }
  ]
}